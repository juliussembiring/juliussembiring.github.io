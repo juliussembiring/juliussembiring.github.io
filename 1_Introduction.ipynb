{
  "cells": [
    {
      "cell_type": "markdown",
      "metadata": {
        "id": "view-in-github",
        "colab_type": "text"
      },
      "source": [
        "<a href=\"https://colab.research.google.com/github/juliussembiring/juliussembiring.github.io/blob/main/1_Introduction.ipynb\" target=\"_parent\"><img src=\"https://colab.research.google.com/assets/colab-badge.svg\" alt=\"Open In Colab\"/></a>"
      ]
    },
    {
      "cell_type": "markdown",
      "metadata": {
        "id": "9p5nyd7HuHDA"
      },
      "source": [
        "# Pertemuan ke-2\n",
        "\n",
        "Selamat datang kembali di pertemuan ke-2 dalam kelas Python! Setelah pada sesi sebelumnya dikenalkan apa itu komputasi, kali ini peserta akan langsung mencoba salah satu bahasa pemograman untuk komputasi, yaitu Python. Untuk sesi ini, akan dibahas:\n",
        "* Operasi dasar pada Python\n",
        "* Variable\n",
        "* String\n",
        "\n",
        "Diharapkan setelah sesi ini peserta dapat mengenali dan menggunakan dasar Python dengan baik sebelum melanjutkan ke sesi selanjutnya."
      ]
    },
    {
      "cell_type": "markdown",
      "metadata": {
        "id": "RnO4hM8Vvkwi"
      },
      "source": [
        "# Basic Python Operations"
      ]
    },
    {
      "cell_type": "markdown",
      "metadata": {
        "id": "_Zlb4Ssmvr5U"
      },
      "source": [
        "## Introduction\n",
        "\n",
        "Untuk sesi ini, anda akan mulai mempelajari Python. Python sendiri adalah bahasa yang cukup populer saat ini di berbagai bidang, terutama yang berhubungan dengan data. Mari kita coba dalami lebih lanjut."
      ]
    },
    {
      "cell_type": "markdown",
      "metadata": {
        "id": "6WBVNsLCx88z"
      },
      "source": [
        "### What is a Python Program?\n",
        "\n",
        "* Python pertama kali dibuat oleh Guido van Rossum pada 1990. \n",
        "* Saat itu, Guido hanya membuat Python sebagai hobi saja. \n",
        "* Namun seiring berjalannya waktu, Python digunakan di berbagai bidang. \n",
        "* Salah satu alasannya adalah bahasa ini merupakan bahasa yang mudah untuk dibaca dan dipelajari."
      ]
    },
    {
      "cell_type": "markdown",
      "metadata": {
        "id": "aJ63qa3ELRrH"
      },
      "source": [
        "Sekarang, mari kita coba memulai untuk mencoba Python di Jupyter Notebook! Coba jalankan kode di bawah ini dengan menekan `Shift+Enter`."
      ]
    },
    {
      "cell_type": "code",
      "execution_count": 70,
      "metadata": {
        "id": "gfi8ucU6LRrH",
        "colab": {
          "base_uri": "https://localhost:8080/"
        },
        "outputId": "c866b223-ce3f-42b0-c576-b3363bc14505"
      },
      "outputs": [
        {
          "output_type": "stream",
          "name": "stdout",
          "text": [
            "Halo Dunia!\n"
          ]
        }
      ],
      "source": [
        "print(\"Halo Dunia!\")"
      ]
    },
    {
      "cell_type": "markdown",
      "metadata": {
        "id": "e5ajzQZ7LRrM"
      },
      "source": [
        "Selamat, sekarang kamu sudah bisa menggunakan Python! Tentu saja ini masih belum cukup, namun tidak perlu khawatir, karena ingin ditekankan bahwa bahasa Python adalah bahasa yang cukup mudah untuk dipahami."
      ]
    },
    {
      "cell_type": "markdown",
      "metadata": {
        "id": "FVG-HtO85sn_"
      },
      "source": [
        "### What is Object in Python\n",
        "\n",
        "* Ada beberapa jenis objek yang sering ditemui di python yaitu:"
      ]
    },
    {
      "cell_type": "markdown",
      "metadata": {
        "id": "ypnsSerOLRrN"
      },
      "source": [
        "| Object Type  | Definisi                                                                              | Contoh                               |\n",
        "|--------------|---------------------------------------------------------------------------------------|--------------------------------------|\n",
        "| Numbers (float, integer)      | Angka (contoh: bilangan bulat, desimal, dll)                                          | 1, 100, 9999, 9.1                    |\n",
        "| Strings      | Teks                                                                                  | 'ayam', 'bebek', 'ikan'              |\n",
        "| Lists        | Kumpulan objek **DAN** dapat diedit                                                   | ['buku', 'pensil', 'pulpen']         |\n",
        "| Tuples       | Kumpulan objek **DAN TIDAK** dapat diedit                                             | (1, 'asik', 2, 'kopi')               |\n",
        "| Set          | Kumpulan objek, tidak dapat diedit, **DAN** tidak boleh ada anggota yang duplikat     | {1, 2, 3, 4}                         |\n",
        "| Dictionaries | Kumpulan objek dengan kunci dan tidak mengenal urutan                                 | {'makanan':'pizza', 'rasa':'mantap'} |"
      ]
    },
    {
      "cell_type": "markdown",
      "metadata": {
        "id": "agUtB0IstHpq"
      },
      "source": [
        "* Namun di pertemuan ini kita hanya akan fokus di angka(`float`,`integer`) dan `string`.\n",
        "* Objek lainnya akan dibahas lebih dalam pada pertemuan-pertemuan selanjutnya."
      ]
    },
    {
      "cell_type": "markdown",
      "metadata": {
        "id": "6Qjtv2VyLRrO"
      },
      "source": [
        "Mari kita coba perlihatkan contohnya satu per satu."
      ]
    },
    {
      "cell_type": "markdown",
      "metadata": {
        "id": "NHf8eJfgLRrP"
      },
      "source": [
        "Contoh: untuk angka, kita cukup mengetik tombol angka yang ada di keyboard kita seperti contoh berikut.\n",
        "\n",
        "Contoh angka bilangan bulat (integer):"
      ]
    },
    {
      "cell_type": "code",
      "execution_count": 71,
      "metadata": {
        "id": "TXFzplcaLRrP",
        "colab": {
          "base_uri": "https://localhost:8080/"
        },
        "outputId": "077bfed1-5b8a-4250-decc-c70c633c7575"
      },
      "outputs": [
        {
          "output_type": "execute_result",
          "data": {
            "text/plain": [
              "11"
            ]
          },
          "metadata": {},
          "execution_count": 71
        }
      ],
      "source": [
        "11"
      ]
    },
    {
      "cell_type": "markdown",
      "metadata": {
        "id": "icDB8fuhLRrT"
      },
      "source": [
        "Untuk meyakinkan bahwa objek tersebut adalah angka, kita bisa mengecek dengan menggunakan fungsi `type`"
      ]
    },
    {
      "cell_type": "code",
      "execution_count": 72,
      "metadata": {
        "id": "H0szTYFtLRrU",
        "colab": {
          "base_uri": "https://localhost:8080/"
        },
        "outputId": "b3f326ff-e343-491b-fa5e-0be10ac7c56f"
      },
      "outputs": [
        {
          "output_type": "execute_result",
          "data": {
            "text/plain": [
              "int"
            ]
          },
          "metadata": {},
          "execution_count": 72
        }
      ],
      "source": [
        "type(1)"
      ]
    },
    {
      "cell_type": "markdown",
      "metadata": {
        "id": "2Ik5KXOILRrX"
      },
      "source": [
        "Terlihat bahwa hasilnya adalah int (integer), yang artinya adalah betul bahwa objek tersebut merupakan objek angka."
      ]
    },
    {
      "cell_type": "markdown",
      "metadata": {
        "id": "Kp0UG-2JhXD-"
      },
      "source": [
        "Contoh lain dari bentuk angka yang sering ditemui adalah float:"
      ]
    },
    {
      "cell_type": "code",
      "execution_count": 73,
      "metadata": {
        "id": "czLu7bZDhdnn",
        "colab": {
          "base_uri": "https://localhost:8080/"
        },
        "outputId": "1598d041-8101-450d-f3d5-561e23eea27f"
      },
      "outputs": [
        {
          "output_type": "execute_result",
          "data": {
            "text/plain": [
              "3.14"
            ]
          },
          "metadata": {},
          "execution_count": 73
        }
      ],
      "source": [
        "3.14"
      ]
    },
    {
      "cell_type": "code",
      "execution_count": 74,
      "metadata": {
        "id": "nEgCyqjrhh-7",
        "colab": {
          "base_uri": "https://localhost:8080/"
        },
        "outputId": "0a55e021-b92a-48b9-c28b-8fd96e468b32"
      },
      "outputs": [
        {
          "output_type": "execute_result",
          "data": {
            "text/plain": [
              "float"
            ]
          },
          "metadata": {},
          "execution_count": 74
        }
      ],
      "source": [
        "type(3.14)"
      ]
    },
    {
      "cell_type": "code",
      "source": [
        ""
      ],
      "metadata": {
        "id": "IPljBk4UAX9z"
      },
      "execution_count": 74,
      "outputs": []
    },
    {
      "cell_type": "code",
      "execution_count": 75,
      "metadata": {
        "id": "eA3mu0i1T6JG",
        "colab": {
          "base_uri": "https://localhost:8080/"
        },
        "outputId": "69fe75af-e622-4f36-8f8b-2fc8bb0717e4"
      },
      "outputs": [
        {
          "output_type": "execute_result",
          "data": {
            "text/plain": [
              "float"
            ]
          },
          "metadata": {},
          "execution_count": 75
        }
      ],
      "source": [
        "type(2.78)"
      ]
    },
    {
      "cell_type": "markdown",
      "metadata": {
        "id": "HFc6401cx3uJ"
      },
      "source": [
        "---\n",
        "**Exercise**"
      ]
    },
    {
      "cell_type": "code",
      "execution_count": 76,
      "metadata": {
        "id": "RhHo3ATLiEce",
        "colab": {
          "base_uri": "https://localhost:8080/"
        },
        "outputId": "1cc2e69f-defb-4894-a994-b44655be670d"
      },
      "outputs": [
        {
          "output_type": "execute_result",
          "data": {
            "text/plain": [
              "int"
            ]
          },
          "metadata": {},
          "execution_count": 76
        }
      ],
      "source": [
        "# Coba cek tipe dari angka 7\n",
        "x = 7\n",
        "type(x)"
      ]
    },
    {
      "cell_type": "code",
      "execution_count": 117,
      "metadata": {
        "id": "kvCB8RHDiHpg",
        "colab": {
          "base_uri": "https://localhost:8080/"
        },
        "outputId": "71ca6b86-eead-45cd-b8dd-cc285c52ac6f"
      },
      "outputs": [
        {
          "output_type": "execute_result",
          "data": {
            "text/plain": [
              "float"
            ]
          },
          "metadata": {},
          "execution_count": 117
        }
      ],
      "source": [
        "# Coba cek tipe dari angka 2.45\n",
        "y = 2.45\n",
        "type(y)"
      ]
    },
    {
      "cell_type": "markdown",
      "metadata": {
        "id": "tfZkU2oMLRrY"
      },
      "source": [
        "---\n",
        "Bisa dicoba juga dengan contoh tabel di atas untuk mengecek sendiri nama-nama tipe objek di Python."
      ]
    },
    {
      "cell_type": "code",
      "execution_count": 78,
      "metadata": {
        "id": "BP2KzSUTLRrY",
        "colab": {
          "base_uri": "https://localhost:8080/"
        },
        "outputId": "8d0b0dd7-c2db-47d1-85dc-a9b316b8074f"
      },
      "outputs": [
        {
          "output_type": "execute_result",
          "data": {
            "text/plain": [
              "str"
            ]
          },
          "metadata": {},
          "execution_count": 78
        }
      ],
      "source": [
        "#tipe objek string\n",
        "type('ayam')"
      ]
    },
    {
      "cell_type": "code",
      "execution_count": 79,
      "metadata": {
        "id": "j4XCEGksLRrc",
        "colab": {
          "base_uri": "https://localhost:8080/"
        },
        "outputId": "4e572956-a6a6-441b-9534-00ba03afcba1"
      },
      "outputs": [
        {
          "output_type": "execute_result",
          "data": {
            "text/plain": [
              "list"
            ]
          },
          "metadata": {},
          "execution_count": 79
        }
      ],
      "source": [
        "#tipe objek list\n",
        "type(['buku', 'pensil', 'pulpen'])"
      ]
    },
    {
      "cell_type": "code",
      "execution_count": 80,
      "metadata": {
        "id": "rRSc_tlFLRrf",
        "colab": {
          "base_uri": "https://localhost:8080/"
        },
        "outputId": "552092fa-da9a-4d04-deb1-9c79a34c4c6d"
      },
      "outputs": [
        {
          "output_type": "execute_result",
          "data": {
            "text/plain": [
              "tuple"
            ]
          },
          "metadata": {},
          "execution_count": 80
        }
      ],
      "source": [
        "#tipe objek tuple\n",
        "type((1, 'asik', 2, 'kopi'))"
      ]
    },
    {
      "cell_type": "code",
      "execution_count": 81,
      "metadata": {
        "id": "UMm9Q9XMLRrj",
        "colab": {
          "base_uri": "https://localhost:8080/"
        },
        "outputId": "48232212-98db-42c3-f99a-5f1c3a9e1072"
      },
      "outputs": [
        {
          "output_type": "stream",
          "name": "stdout",
          "text": [
            "{2, 3, 4}\n"
          ]
        }
      ],
      "source": [
        "#tipe objek set\n",
        "a = {1, 2, 3, 4}\n",
        "a = {4, 2, 3, 4}\n",
        "print(a)"
      ]
    },
    {
      "cell_type": "code",
      "execution_count": 82,
      "metadata": {
        "id": "Qb4mKu4wLRrm",
        "colab": {
          "base_uri": "https://localhost:8080/"
        },
        "outputId": "2456e1a0-2f92-4ce7-d943-c025d43a8ad5"
      },
      "outputs": [
        {
          "output_type": "execute_result",
          "data": {
            "text/plain": [
              "dict"
            ]
          },
          "metadata": {},
          "execution_count": 82
        }
      ],
      "source": [
        "#tipe objek dictionary\n",
        "type({'makanan':'pizza', \n",
        "      'rasa'   :'mantap'})"
      ]
    },
    {
      "cell_type": "markdown",
      "metadata": {
        "id": "yYbV4XQUCkLj"
      },
      "source": [
        "### Type Conversion\n",
        "\n",
        "Yang akan dikenalkan di sini adalah mengubah suatu object Python menjadi:\n",
        "- Angka (integer, float)\n",
        "- String\n",
        "- List\n",
        "- Tuple\n",
        "- Set"
      ]
    },
    {
      "cell_type": "markdown",
      "metadata": {
        "id": "W_rSyBjnLRrp"
      },
      "source": [
        "Misal, kita mempunyai sebuah objek string \"1010\", yang akan kita namakan sebagai `asik`."
      ]
    },
    {
      "cell_type": "code",
      "execution_count": 83,
      "metadata": {
        "id": "LZjugPhHLRrp"
      },
      "outputs": [],
      "source": [
        "asik = '1010'"
      ]
    },
    {
      "cell_type": "markdown",
      "metadata": {
        "id": "R7O17kj5LRrs"
      },
      "source": [
        "Sekarang kita coba cek `asik` dengan cara print."
      ]
    },
    {
      "cell_type": "code",
      "execution_count": 84,
      "metadata": {
        "id": "aujgvdi6LRrt",
        "colab": {
          "base_uri": "https://localhost:8080/"
        },
        "outputId": "50efd285-5c19-48f4-d6ad-4e4c04f4d95a"
      },
      "outputs": [
        {
          "output_type": "stream",
          "name": "stdout",
          "text": [
            "1010\n"
          ]
        }
      ],
      "source": [
        "print(asik)"
      ]
    },
    {
      "cell_type": "markdown",
      "metadata": {
        "id": "f4w51B5tLRrx"
      },
      "source": [
        "Cek tipe objek dengan cara sebelumnya."
      ]
    },
    {
      "cell_type": "code",
      "execution_count": 85,
      "metadata": {
        "id": "sKoNQrDtLRry",
        "colab": {
          "base_uri": "https://localhost:8080/"
        },
        "outputId": "9f2dd28c-4206-4d31-9c04-aea2ba807a0c"
      },
      "outputs": [
        {
          "output_type": "execute_result",
          "data": {
            "text/plain": [
              "str"
            ]
          },
          "metadata": {},
          "execution_count": 85
        }
      ],
      "source": [
        "type(asik)"
      ]
    },
    {
      "cell_type": "markdown",
      "metadata": {
        "id": "YdzyHqIOLRr1"
      },
      "source": [
        "Oke, sudah tepat bahwa objek tersebut adalah string, tapi mungkin ada beberapa yang masih bertanya: mengapa angka 1010 dianggap sebagai string? Karena kita menggunakan tanda kutip (`\"` atau `'`) sehingga Python mengganggap objek tersebut sebagai string. "
      ]
    },
    {
      "cell_type": "markdown",
      "metadata": {
        "id": "jS37Zsd_LRr2"
      },
      "source": [
        "Lalu, bagaimana untuk mengubah `asik` menjadi angka? Simpel, kita cukup menggunakan nama objek yang kita inginkan ke `asik`."
      ]
    },
    {
      "cell_type": "code",
      "execution_count": 86,
      "metadata": {
        "id": "84rOR-BPLRr2"
      },
      "outputs": [],
      "source": [
        "angka_asik = int(asik)"
      ]
    },
    {
      "cell_type": "code",
      "execution_count": 87,
      "metadata": {
        "id": "MbKExX5kLRr4",
        "colab": {
          "base_uri": "https://localhost:8080/"
        },
        "outputId": "31502c75-ecd4-42a6-e3ec-7deff98a8c46"
      },
      "outputs": [
        {
          "output_type": "stream",
          "name": "stdout",
          "text": [
            "1010\n"
          ]
        }
      ],
      "source": [
        "print(angka_asik)"
      ]
    },
    {
      "cell_type": "code",
      "execution_count": 88,
      "metadata": {
        "id": "SMMzM3nhLRr7",
        "colab": {
          "base_uri": "https://localhost:8080/"
        },
        "outputId": "fc71c165-d943-4905-da51-ae02ec8dea53"
      },
      "outputs": [
        {
          "output_type": "execute_result",
          "data": {
            "text/plain": [
              "int"
            ]
          },
          "metadata": {},
          "execution_count": 88
        }
      ],
      "source": [
        "type(angka_asik)"
      ]
    },
    {
      "cell_type": "markdown",
      "metadata": {
        "id": "W8FAqn-vLRr9"
      },
      "source": [
        "Asik."
      ]
    },
    {
      "cell_type": "markdown",
      "metadata": {
        "id": "J_EhEPHfLRr-"
      },
      "source": [
        "Selain integer, kita juga mengubah ke format angka lainnya yaitu float. Float sendiri bisa digunakan jika ingin menghadirkan desimal di angka yang kita punya. Ini juga akan sangat berguna jika nantinya diinginkan perhitungan yang lebih detail."
      ]
    },
    {
      "cell_type": "code",
      "execution_count": 89,
      "metadata": {
        "id": "k438b9z5LRr-",
        "colab": {
          "base_uri": "https://localhost:8080/"
        },
        "outputId": "a45d1f9f-1704-4965-bf71-16d872323b08"
      },
      "outputs": [
        {
          "output_type": "execute_result",
          "data": {
            "text/plain": [
              "1010.0"
            ]
          },
          "metadata": {},
          "execution_count": 89
        }
      ],
      "source": [
        "float(angka_asik)"
      ]
    },
    {
      "cell_type": "markdown",
      "metadata": {
        "id": "wCOl_M1wLRsA"
      },
      "source": [
        "Dalam hal ini 1010 muncul sebagai 1010.0"
      ]
    },
    {
      "cell_type": "markdown",
      "metadata": {
        "id": "jz09aq14LRsA"
      },
      "source": [
        "Bagaimana jika `angka_asik` ingin dikembalikan ke `string`? Cukup dengan menggunakan `string`!"
      ]
    },
    {
      "cell_type": "code",
      "execution_count": 90,
      "metadata": {
        "id": "lfFYIvsHLRsB",
        "colab": {
          "base_uri": "https://localhost:8080/",
          "height": 35
        },
        "outputId": "6eba250a-c79c-4115-c492-82523f61b165"
      },
      "outputs": [
        {
          "output_type": "execute_result",
          "data": {
            "application/vnd.google.colaboratory.intrinsic+json": {
              "type": "string"
            },
            "text/plain": [
              "'1010'"
            ]
          },
          "metadata": {},
          "execution_count": 90
        }
      ],
      "source": [
        "str(angka_asik)"
      ]
    },
    {
      "cell_type": "markdown",
      "metadata": {
        "id": "ktKZ_7zCyAmp"
      },
      "source": [
        "---\n",
        "**Exercise**"
      ]
    },
    {
      "cell_type": "code",
      "execution_count": 91,
      "metadata": {
        "id": "Y8edYxDAitiB",
        "colab": {
          "base_uri": "https://localhost:8080/"
        },
        "outputId": "c23f2320-1a9a-46a0-9942-f161a899fac4"
      },
      "outputs": [
        {
          "output_type": "execute_result",
          "data": {
            "text/plain": [
              "7.0"
            ]
          },
          "metadata": {},
          "execution_count": 91
        }
      ],
      "source": [
        "# Konversi integer berikut menjadi float\n",
        "7\n",
        "float(7)"
      ]
    },
    {
      "cell_type": "code",
      "execution_count": 92,
      "metadata": {
        "id": "pWYMF2sqi04t",
        "colab": {
          "base_uri": "https://localhost:8080/"
        },
        "outputId": "1274d2b3-74a5-4a5e-ed3b-0618b09b2576"
      },
      "outputs": [
        {
          "output_type": "execute_result",
          "data": {
            "text/plain": [
              "4"
            ]
          },
          "metadata": {},
          "execution_count": 92
        }
      ],
      "source": [
        "# Konversi float berikut menjadi integer\n",
        "4.24\n",
        "int(4.24)"
      ]
    },
    {
      "cell_type": "code",
      "execution_count": 93,
      "metadata": {
        "id": "lXHPYvVKi9Tb",
        "colab": {
          "base_uri": "https://localhost:8080/",
          "height": 35
        },
        "outputId": "18888c3d-9f51-41ce-d3b7-fde6a4d3b5c7"
      },
      "outputs": [
        {
          "output_type": "execute_result",
          "data": {
            "application/vnd.google.colaboratory.intrinsic+json": {
              "type": "string"
            },
            "text/plain": [
              "'2.35'"
            ]
          },
          "metadata": {},
          "execution_count": 93
        }
      ],
      "source": [
        "# Konversi angka berikut menjadi string\n",
        "2.35\n",
        "str(2.35)"
      ]
    },
    {
      "cell_type": "code",
      "execution_count": 94,
      "metadata": {
        "id": "Wx1adytfjDvM",
        "colab": {
          "base_uri": "https://localhost:8080/"
        },
        "outputId": "74189f75-09b6-4193-876a-57bbcb92c85d"
      },
      "outputs": [
        {
          "output_type": "execute_result",
          "data": {
            "text/plain": [
              "2020"
            ]
          },
          "metadata": {},
          "execution_count": 94
        }
      ],
      "source": [
        "# Konversi string berikut menjadi angka\n",
        "\"2020\"\n",
        "int(\"2020\")"
      ]
    },
    {
      "cell_type": "markdown",
      "metadata": {
        "id": "f83yMBPeDUHw"
      },
      "source": [
        "### Expression\n",
        "\n",
        "Apa yang dimaksud dengan *expression*? Expression adalah hal yang merepresentasikan sesuatu, entah itu angka atau string. Jadi, `'1010'` di variabel `asik` adalah expression! Kemudian, yang dimaksud dengan `asik='1010'` adalah sebuah *statement* yang membuat `asik` mendapatkan value `'1010'`."
      ]
    },
    {
      "cell_type": "markdown",
      "metadata": {
        "id": "BuDzxmfeDZ2V"
      },
      "source": [
        "### Operators\n",
        "\n",
        "Didalam sebuah expression, kita bisa menambahkan operator yang menggabungkan value lainnya. Berikut di bawah ini adalah beberapa operator yang dapat digunakan di Python."
      ]
    },
    {
      "cell_type": "markdown",
      "metadata": {
        "id": "QcOeM6NxLRsE"
      },
      "source": [
        "| Operator                                       | Simbol |\n",
        "|------------------------------------------------|--------|\n",
        "| tambah                                         | +      |\n",
        "| kurang                                         | -      |\n",
        "| kali                                           | *      |\n",
        "| pangkat                                        | **     |\n",
        "| pembagian                                      | /      |\n",
        "| pembagian (dengan output pembulatan kebawah)   | //     |\n",
        "| hasil sisa pembagian                           | %      |\n"
      ]
    },
    {
      "cell_type": "markdown",
      "metadata": {
        "id": "BfN4leE1Dpjd"
      },
      "source": [
        "#### Tambah kurang kali bagi \n",
        "\n",
        "* Simbol untuk 4 operasi ini standar.\n",
        "* Jika anda pernah memakai microsoft excel, operasinya sama.\n",
        "\n",
        "Penambahan:"
      ]
    },
    {
      "cell_type": "code",
      "execution_count": 95,
      "metadata": {
        "id": "LquAPUW01NqJ",
        "colab": {
          "base_uri": "https://localhost:8080/"
        },
        "outputId": "cfcd9ed7-6b80-43e4-b7fb-f809976a6866"
      },
      "outputs": [
        {
          "output_type": "execute_result",
          "data": {
            "text/plain": [
              "12"
            ]
          },
          "metadata": {},
          "execution_count": 95
        }
      ],
      "source": [
        "5+7"
      ]
    },
    {
      "cell_type": "markdown",
      "metadata": {
        "id": "d1PgKHs41RqH"
      },
      "source": [
        "Pengurangan:"
      ]
    },
    {
      "cell_type": "code",
      "execution_count": 96,
      "metadata": {
        "id": "ghR1njZm1Tlh",
        "colab": {
          "base_uri": "https://localhost:8080/"
        },
        "outputId": "c205f823-fcd2-4bca-f01c-96be2fc5bd6c"
      },
      "outputs": [
        {
          "output_type": "execute_result",
          "data": {
            "text/plain": [
              "7"
            ]
          },
          "metadata": {},
          "execution_count": 96
        }
      ],
      "source": [
        "15-8"
      ]
    },
    {
      "cell_type": "markdown",
      "metadata": {
        "id": "ja7HPBSg1Wex"
      },
      "source": [
        "Perkalian:"
      ]
    },
    {
      "cell_type": "code",
      "execution_count": 97,
      "metadata": {
        "id": "itppVeY41X9t",
        "colab": {
          "base_uri": "https://localhost:8080/"
        },
        "outputId": "c60e3b03-2b7f-4fc7-cccd-2f27512ec622"
      },
      "outputs": [
        {
          "output_type": "execute_result",
          "data": {
            "text/plain": [
              "12"
            ]
          },
          "metadata": {},
          "execution_count": 97
        }
      ],
      "source": [
        "2*6"
      ]
    },
    {
      "cell_type": "markdown",
      "metadata": {
        "id": "EZE-jnLY1Z71"
      },
      "source": [
        "Pembagian:"
      ]
    },
    {
      "cell_type": "code",
      "execution_count": 98,
      "metadata": {
        "id": "ulfMB1J91dbQ",
        "colab": {
          "base_uri": "https://localhost:8080/"
        },
        "outputId": "502c5757-29c3-48fe-fb2d-d72406993319"
      },
      "outputs": [
        {
          "output_type": "execute_result",
          "data": {
            "text/plain": [
              "4.0"
            ]
          },
          "metadata": {},
          "execution_count": 98
        }
      ],
      "source": [
        "12/3"
      ]
    },
    {
      "cell_type": "markdown",
      "metadata": {
        "id": "wY0IYU2q2AZ-"
      },
      "source": [
        "---\n",
        "**Exercise**"
      ]
    },
    {
      "cell_type": "code",
      "execution_count": 118,
      "metadata": {
        "id": "XwK8StdJ2Cul",
        "colab": {
          "base_uri": "https://localhost:8080/"
        },
        "outputId": "7456ecbc-9d0b-42b1-85c3-e6482d09de93"
      },
      "outputs": [
        {
          "output_type": "execute_result",
          "data": {
            "text/plain": [
              "15"
            ]
          },
          "metadata": {},
          "execution_count": 118
        }
      ],
      "source": [
        "# Hitunglah 8 ditambah 7\n",
        "8+7\n",
        "\n"
      ]
    },
    {
      "cell_type": "code",
      "execution_count": 119,
      "metadata": {
        "id": "dom80mu-5m_K",
        "colab": {
          "base_uri": "https://localhost:8080/"
        },
        "outputId": "901cadf0-ace9-44f8-dc96-46cbaa2817c5"
      },
      "outputs": [
        {
          "output_type": "stream",
          "name": "stdout",
          "text": [
            "-3\n"
          ]
        }
      ],
      "source": [
        "# Hitunglah 7 dikurang 10\n",
        "x = 7 \n",
        "y = 10\n",
        "result = x-y\n",
        "print(result)"
      ]
    },
    {
      "cell_type": "code",
      "execution_count": 120,
      "metadata": {
        "id": "ZAviWGyR5qP_",
        "colab": {
          "base_uri": "https://localhost:8080/"
        },
        "outputId": "c40cfa25-bbbb-4268-d1f1-4ed6b09432c5"
      },
      "outputs": [
        {
          "output_type": "stream",
          "name": "stdout",
          "text": [
            "108\n"
          ]
        }
      ],
      "source": [
        "# Hitunglah 9 dikali 12\n",
        "x = 9\n",
        "y = 12\n",
        "print(x*y)"
      ]
    },
    {
      "cell_type": "code",
      "execution_count": 121,
      "metadata": {
        "id": "qgZESeWT5uLc",
        "colab": {
          "base_uri": "https://localhost:8080/"
        },
        "outputId": "2ea47fb4-678b-4038-f5d7-91ff5b90494e"
      },
      "outputs": [
        {
          "output_type": "execute_result",
          "data": {
            "text/plain": [
              "5.5"
            ]
          },
          "metadata": {},
          "execution_count": 121
        }
      ],
      "source": [
        "# Hitunglah 11 dibagi 2\n",
        "11/2"
      ]
    },
    {
      "cell_type": "markdown",
      "metadata": {
        "id": "D_9ZPhGq56Li"
      },
      "source": [
        "#### Pangkat\n",
        "\n",
        "* Sedikit berbeda dengan bahasa pemrograman pada umumnya yang memakai `^` untuk pangkat.\n",
        "* Python memakai simbol `**`."
      ]
    },
    {
      "cell_type": "code",
      "execution_count": 103,
      "metadata": {
        "id": "H81xfhJT6IPE",
        "colab": {
          "base_uri": "https://localhost:8080/"
        },
        "outputId": "9d2ca39f-a3b5-4b3c-ef01-c8fe9d341218"
      },
      "outputs": [
        {
          "output_type": "execute_result",
          "data": {
            "text/plain": [
              "1000"
            ]
          },
          "metadata": {},
          "execution_count": 103
        }
      ],
      "source": [
        "10**3"
      ]
    },
    {
      "cell_type": "markdown",
      "metadata": {
        "id": "xQzF-zA36w3V"
      },
      "source": [
        "**Exercise**"
      ]
    },
    {
      "cell_type": "code",
      "execution_count": 122,
      "metadata": {
        "id": "hEaWe5Ni8xkA",
        "colab": {
          "base_uri": "https://localhost:8080/"
        },
        "outputId": "5c132962-750d-4b61-f744-33b96a837c2e"
      },
      "outputs": [
        {
          "output_type": "execute_result",
          "data": {
            "text/plain": [
              "9"
            ]
          },
          "metadata": {},
          "execution_count": 122
        }
      ],
      "source": [
        "# Hitunglah 3 kuadrat\n",
        "3**2"
      ]
    },
    {
      "cell_type": "code",
      "execution_count": 123,
      "metadata": {
        "id": "TkkiEfhN6zVm",
        "colab": {
          "base_uri": "https://localhost:8080/"
        },
        "outputId": "8e4e9d53-c50e-411c-f25b-ff22bf95fee0"
      },
      "outputs": [
        {
          "output_type": "execute_result",
          "data": {
            "text/plain": [
              "1024"
            ]
          },
          "metadata": {},
          "execution_count": 123
        }
      ],
      "source": [
        "# Hitunglah 2 pangkat 10\n",
        "2**10"
      ]
    },
    {
      "cell_type": "code",
      "execution_count": 106,
      "metadata": {
        "id": "C3uxvB2182H5",
        "colab": {
          "base_uri": "https://localhost:8080/"
        },
        "outputId": "1f038d7a-d421-429d-a991-1335a6c47b98"
      },
      "outputs": [
        {
          "output_type": "execute_result",
          "data": {
            "text/plain": [
              "2.0"
            ]
          },
          "metadata": {},
          "execution_count": 106
        }
      ],
      "source": [
        "# Hitunglah akar kuadrat dari 9\n",
        "8**(1/3)"
      ]
    },
    {
      "cell_type": "markdown",
      "metadata": {
        "id": "uq6oO7lC63Xo"
      },
      "source": [
        "#### Floor division\n",
        "\n",
        "* Simbol *floor division* adalah salah satu hal unik di Python.\n",
        "* Kebanyakan bahasa lain membutuhkan fungsi tambahan.\n",
        "* Namun dalam Python cukup dengan `//`\n",
        "* Ini akan menghasilkan hasil pembagian dengan pembulatan kebawah."
      ]
    },
    {
      "cell_type": "code",
      "execution_count": 107,
      "metadata": {
        "id": "iKCaw-QE7UoU",
        "colab": {
          "base_uri": "https://localhost:8080/"
        },
        "outputId": "8aa50a23-2679-4b4f-ae7d-5a1299001a58"
      },
      "outputs": [
        {
          "output_type": "execute_result",
          "data": {
            "text/plain": [
              "2"
            ]
          },
          "metadata": {},
          "execution_count": 107
        }
      ],
      "source": [
        "5//2"
      ]
    },
    {
      "cell_type": "markdown",
      "metadata": {
        "id": "FjwJOGxG89mH"
      },
      "source": [
        "**Exercise**"
      ]
    },
    {
      "cell_type": "code",
      "execution_count": 124,
      "metadata": {
        "id": "hqERVdIN8_hI",
        "colab": {
          "base_uri": "https://localhost:8080/"
        },
        "outputId": "a4a719e3-40b9-46b0-ba6a-121f9ae0d0f7"
      },
      "outputs": [
        {
          "output_type": "execute_result",
          "data": {
            "text/plain": [
              "2"
            ]
          },
          "metadata": {},
          "execution_count": 124
        }
      ],
      "source": [
        "# Hitunglah floor division 7 dengan 3\n",
        "7//3\n"
      ]
    },
    {
      "cell_type": "code",
      "execution_count": 125,
      "metadata": {
        "id": "yJrXV2TC9FMh",
        "colab": {
          "base_uri": "https://localhost:8080/"
        },
        "outputId": "ded75b28-e6a9-4fe1-f435-7870a4e50a33"
      },
      "outputs": [
        {
          "output_type": "execute_result",
          "data": {
            "text/plain": [
              "3"
            ]
          },
          "metadata": {},
          "execution_count": 125
        }
      ],
      "source": [
        "# Hitunglah floor division 17 dengan 5\n",
        "17 // 5"
      ]
    },
    {
      "cell_type": "markdown",
      "metadata": {
        "id": "ujuxhzeD784C"
      },
      "source": [
        "#### Modulo\n",
        "\n",
        "* Operasi modulo menggunakan tanda `%`\n",
        "* Di dalam pemrograman, operasi modulo akan menghasilkan sisa pembagian:\n",
        "\n",
        "<img src=\"https://miro.medium.com/max/763/1*qNHqiDPc1ElQbdGfOIRXCw.jpeg\" alt=\"Drawing\" width= 500px;/>\n",
        "\n",
        "<small>[Source](https://miro.medium.com/max/763/1*qNHqiDPc1ElQbdGfOIRXCw.jpeg)</small>"
      ]
    },
    {
      "cell_type": "code",
      "execution_count": 110,
      "metadata": {
        "id": "hRSe3sCd8rb8",
        "colab": {
          "base_uri": "https://localhost:8080/"
        },
        "outputId": "6eacc4ef-b6fd-4183-e169-592b9425c730"
      },
      "outputs": [
        {
          "output_type": "execute_result",
          "data": {
            "text/plain": [
              "1"
            ]
          },
          "metadata": {},
          "execution_count": 110
        }
      ],
      "source": [
        "7 % 3"
      ]
    },
    {
      "cell_type": "markdown",
      "metadata": {
        "id": "xqId7JJL9Kw7"
      },
      "source": [
        "**Exercise**"
      ]
    },
    {
      "cell_type": "code",
      "execution_count": 126,
      "metadata": {
        "id": "Nm1gcmM79QGA",
        "colab": {
          "base_uri": "https://localhost:8080/"
        },
        "outputId": "0d36e25e-92da-4b46-81f6-05436a91db08"
      },
      "outputs": [
        {
          "output_type": "stream",
          "name": "stdout",
          "text": [
            "0\n"
          ]
        }
      ],
      "source": [
        "# Hitunglah modulo 99 dengan 11\n",
        "x = 99 \n",
        "y = 11\n",
        "print(x%y)"
      ]
    },
    {
      "cell_type": "code",
      "execution_count": 127,
      "metadata": {
        "id": "yQ4K58R69Ss4",
        "colab": {
          "base_uri": "https://localhost:8080/"
        },
        "outputId": "7340aed4-9a97-4bb7-bef6-cf5e7c72f1f9"
      },
      "outputs": [
        {
          "output_type": "execute_result",
          "data": {
            "text/plain": [
              "2"
            ]
          },
          "metadata": {},
          "execution_count": 127
        }
      ],
      "source": [
        "# Hitunglah modulo 17 dengan 3\n",
        "17 % 3"
      ]
    },
    {
      "cell_type": "markdown",
      "metadata": {
        "id": "CQcEZvwq4o-N"
      },
      "source": [
        "####  Urutan Operasi"
      ]
    },
    {
      "cell_type": "markdown",
      "metadata": {
        "id": "SidiKO5n4o-O"
      },
      "source": [
        "Setiap operasi di dalam python memiliki urutan dalam pengoperasiannya. Jika dalam satu ekpression terdapat lebih dari satu operasi, maka kode akan di eksekusi berdasarkan operasi yang lebih tinggi prioritasnya. Berikut tabel prioritas operasi dari operator yang telah di pelajari:\n",
        "<br>\n",
        "<br>\n",
        "\n",
        "| Operator                                       | Simbol |\n",
        "|------------------------------------------------|--------|\n",
        "| Tanda Kurung                                   | ( )     |\n",
        "| Pangkat                                        | **     |\n",
        "| kali, bagi, pembagian (dengan output pembulatan kebawah), hasil sisa pembagian               | * , / , //, %       |\n",
        "| Tambah, Kurang                                  | + , -      |\n",
        "\n",
        "<br>\n",
        "<br>"
      ]
    },
    {
      "cell_type": "code",
      "execution_count": 113,
      "metadata": {
        "colab": {
          "base_uri": "https://localhost:8080/"
        },
        "id": "wip0DwPn4o-O",
        "outputId": "6be7081d-a9c5-43c3-8c97-a0f00618f688"
      },
      "outputs": [
        {
          "output_type": "execute_result",
          "data": {
            "text/plain": [
              "25"
            ]
          },
          "metadata": {},
          "execution_count": 113
        }
      ],
      "source": [
        "5 + 2 * 10"
      ]
    },
    {
      "cell_type": "code",
      "execution_count": 114,
      "metadata": {
        "colab": {
          "base_uri": "https://localhost:8080/"
        },
        "id": "nDfDcFS-4o-P",
        "outputId": "11a0791f-6d28-4dda-b4ed-bfa2f14faf80"
      },
      "outputs": [
        {
          "output_type": "execute_result",
          "data": {
            "text/plain": [
              "56"
            ]
          },
          "metadata": {},
          "execution_count": 114
        }
      ],
      "source": [
        "(5 + 2) * 2 ** 3"
      ]
    },
    {
      "cell_type": "markdown",
      "metadata": {
        "id": "yiHjCl2L4o-P"
      },
      "source": [
        "**Exercise**"
      ]
    },
    {
      "cell_type": "code",
      "execution_count": 128,
      "metadata": {
        "id": "_3PXVkai4o-Q",
        "colab": {
          "base_uri": "https://localhost:8080/"
        },
        "outputId": "7dfb4fd9-8f7c-4633-934f-7331ef699b96"
      },
      "outputs": [
        {
          "output_type": "execute_result",
          "data": {
            "text/plain": [
              "12"
            ]
          },
          "metadata": {},
          "execution_count": 128
        }
      ],
      "source": [
        "#Hitung hasil operasi dari 12 % 5 ** 2 \n",
        "12 % (5 ** 2)"
      ]
    },
    {
      "cell_type": "code",
      "execution_count": 129,
      "metadata": {
        "id": "v9MPqo7Q4o-S",
        "colab": {
          "base_uri": "https://localhost:8080/"
        },
        "outputId": "17e1fa91-1753-436d-eaca-3121ca18f855"
      },
      "outputs": [
        {
          "output_type": "execute_result",
          "data": {
            "text/plain": [
              "4"
            ]
          },
          "metadata": {},
          "execution_count": 129
        }
      ],
      "source": [
        "#Hitung hasil operasi dari (3 + 26) % 5 ** 2 \n",
        "(3 + 26) % 5 ** 2 \n"
      ]
    }
  ],
  "metadata": {
    "colab": {
      "collapsed_sections": [],
      "name": "1. Introduction.ipynb",
      "provenance": [],
      "include_colab_link": true
    },
    "kernelspec": {
      "display_name": "Python 3",
      "language": "python",
      "name": "python3"
    },
    "language_info": {
      "codemirror_mode": {
        "name": "ipython",
        "version": 3
      },
      "file_extension": ".py",
      "mimetype": "text/x-python",
      "name": "python",
      "nbconvert_exporter": "python",
      "pygments_lexer": "ipython3",
      "version": "3.7.4"
    },
    "toc-autonumbering": true,
    "toc-showcode": false,
    "toc-showmarkdowntxt": false
  },
  "nbformat": 4,
  "nbformat_minor": 0
}