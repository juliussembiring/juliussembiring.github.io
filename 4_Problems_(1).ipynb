{
  "nbformat": 4,
  "nbformat_minor": 0,
  "metadata": {
    "colab": {
      "name": "4. Problems (1).ipynb",
      "provenance": [],
      "collapsed_sections": [],
      "include_colab_link": true
    },
    "kernelspec": {
      "name": "python3",
      "display_name": "Python 3"
    }
  },
  "cells": [
    {
      "cell_type": "markdown",
      "metadata": {
        "id": "view-in-github",
        "colab_type": "text"
      },
      "source": [
        "<a href=\"https://colab.research.google.com/github/juliussembiring/juliussembiring.github.io/blob/main/4_Problems_(1).ipynb\" target=\"_parent\"><img src=\"https://colab.research.google.com/assets/colab-badge.svg\" alt=\"Open In Colab\"/></a>"
      ]
    },
    {
      "cell_type": "markdown",
      "metadata": {
        "id": "bNqN94yyIeU5"
      },
      "source": [
        "1. Diberikan sebuah tuple sebagai berikut, ambil potongan tuple dari elemen ke-3 sampai elemen ke-8\n",
        "    * Output: (53, 44, 64, 21, 94, 39)"
      ]
    },
    {
      "cell_type": "code",
      "metadata": {
        "id": "N1xDQQEu2I52",
        "colab": {
          "base_uri": "https://localhost:8080/"
        },
        "outputId": "068eec43-812b-46d6-ba4f-a451603a6704"
      },
      "source": [
        "Tuple_1 = (12,23,53,44,64,21,94,39,10,63,54,75,98,11)\n",
        "from typing import Tuple\n",
        "Tuple_1 = (12,23,53,44,64,21,94,39,10,63,54,75,98,11)\n",
        "Tuple_1[2:8]"
      ],
      "execution_count": null,
      "outputs": [
        {
          "output_type": "execute_result",
          "data": {
            "text/plain": [
              "(53, 44, 64, 21, 94, 39)"
            ]
          },
          "metadata": {},
          "execution_count": 2
        }
      ]
    },
    {
      "cell_type": "markdown",
      "metadata": {
        "id": "5UuAmYzbIjd0"
      },
      "source": [
        "2. Balik urutan dari tuple berikut:\n",
        "    * output: `(55,45,35,25,15)`"
      ]
    },
    {
      "cell_type": "code",
      "metadata": {
        "id": "hFe-QSZqIite",
        "colab": {
          "base_uri": "https://localhost:8080/"
        },
        "outputId": "422e610c-d955-46f7-beac-0d40d3c8bb09"
      },
      "source": [
        "tuple_2 = (15,25,35,45,55)\n",
        "tuple_2 = (15,25,35,45,55)\n",
        "tuple_2[::-1]"
      ],
      "execution_count": null,
      "outputs": [
        {
          "output_type": "execute_result",
          "data": {
            "text/plain": [
              "(55, 45, 35, 25, 15)"
            ]
          },
          "metadata": {},
          "execution_count": 3
        }
      ]
    },
    {
      "cell_type": "markdown",
      "metadata": {
        "id": "5w3Pi_rxHkxk"
      },
      "source": [
        "3. Diberikan sebuah list, urutkanlah list berikut secara alfabet:\n",
        "\n",
        "expected output = `['apple','ball','covariance','determinant','exponential','factorization']`"
      ]
    },
    {
      "cell_type": "code",
      "metadata": {
        "id": "4aj2dbqaHkCs",
        "colab": {
          "base_uri": "https://localhost:8080/"
        },
        "outputId": "4ad1ff4e-82de-4f36-c28b-f7d21f536b5c"
      },
      "source": [
        "list_1 = ['apple','covariance', 'ball', 'factorization', 'exponential', 'determinant']\n",
        "list_1.sort(reverse=False)\n",
        "print(list_1)"
      ],
      "execution_count": null,
      "outputs": [
        {
          "output_type": "stream",
          "name": "stdout",
          "text": [
            "['apple', 'ball', 'covariance', 'determinant', 'exponential', 'factorization']\n"
          ]
        }
      ]
    },
    {
      "cell_type": "markdown",
      "metadata": {
        "id": "sZtaVTO1KKKZ"
      },
      "source": [
        "4. Diberikan sebuah list, ubahlah setiap elemennya menjadi nilai kuadratnya:\n",
        "    * output: [4,9,16,25,36,49]"
      ]
    },
    {
      "cell_type": "code",
      "metadata": {
        "id": "O56WX0QFL50-",
        "colab": {
          "base_uri": "https://localhost:8080/"
        },
        "outputId": "697760a2-6365-41ad-a401-e1457a6ad27f"
      },
      "source": [
        "list_a = [2,3,4,5,6,7]\n",
        "for i in range(len(list_a)):\n",
        "  list_a[i]**= 2\n",
        "list_a"
      ],
      "execution_count": null,
      "outputs": [
        {
          "output_type": "execute_result",
          "data": {
            "text/plain": [
              "[4, 9, 16, 25, 36, 49]"
            ]
          },
          "metadata": {},
          "execution_count": 5
        }
      ]
    },
    {
      "cell_type": "markdown",
      "metadata": {
        "id": "P3--R09aL6t0"
      },
      "source": [
        "5. Buatlah list berisi deret fibonacci dari list yang disediakan, hingga jumlah elemen 15. \n",
        "\n",
        "    * Output: [0, 1, 1, 2, 3, 5, 8, 13, 21, 34, 55, 89, 144, 233, 377]"
      ]
    },
    {
      "cell_type": "code",
      "metadata": {
        "id": "orcWerrUL_wP",
        "colab": {
          "base_uri": "https://localhost:8080/"
        },
        "outputId": "69c34e05-a661-4675-eaad-fd27c1159fb4"
      },
      "source": [
        "banyak_bilangan = int(input('masukan banyaknya bilangan: '))\n",
        "count = 0\n",
        "n1 = 0\n",
        "n2 = 1\n",
        " \n",
        "list_fibonacci = []\n",
        "while count < banyak_bilangan:\n",
        "   list_fibonacci.append(n1)\n",
        "   bilangan_terakhir = n1 + n2\n",
        "   n1 = n2\n",
        "   n2 = bilangan_terakhir\n",
        "   count += 1\n",
        "   \n",
        "print(list_fibonacci)\n",
        " \n",
        "daftar_string = [str(angka) for angka in list_fibonacci]\n",
        "deret_string = ', '.join(daftar_string)\n",
        "print('Deret fibonacci dengan banyak bilangan {} adalah:\\n{}'. format(banyak_bilangan, ', '.join(daftar_string)))"
      ],
      "execution_count": null,
      "outputs": [
        {
          "output_type": "stream",
          "name": "stdout",
          "text": [
            "masukan banyaknya bilangan: 20\n",
            "[0, 1, 1, 2, 3, 5, 8, 13, 21, 34, 55, 89, 144, 233, 377, 610, 987, 1597, 2584, 4181]\n",
            "Deret fibonacci dengan banyak bilangan 20 adalah:\n",
            "0, 1, 1, 2, 3, 5, 8, 13, 21, 34, 55, 89, 144, 233, 377, 610, 987, 1597, 2584, 4181\n"
          ]
        }
      ]
    },
    {
      "cell_type": "markdown",
      "metadata": {
        "id": "wm4VZKSwrlFb"
      },
      "source": [
        "6. Diberikan sebuah list, hapuslah semua elemen bernilai 20 dari list berikut:"
      ]
    },
    {
      "cell_type": "code",
      "metadata": {
        "id": "pYZrZ1Ovrmd6",
        "colab": {
          "base_uri": "https://localhost:8080/"
        },
        "outputId": "efa72691-c087-4f8d-ef2a-c80cf84eba70"
      },
      "source": [
        "list1 = [5, 20, 15, 20, 25, 50, 20, 20, 25, 35, 65, 20, 30, 10, 20, 20]\n",
        "list_ku = list(dict.fromkeys(list1))\n",
        "print(list_ku)"
      ],
      "execution_count": null,
      "outputs": [
        {
          "output_type": "stream",
          "name": "stdout",
          "text": [
            "[5, 20, 15, 25, 50, 35, 65, 30, 10]\n"
          ]
        }
      ]
    },
    {
      "cell_type": "markdown",
      "metadata": {
        "id": "SoDC4KOLrnyI"
      },
      "source": [
        "7. Gabungkanlah kedua list yang berurutan secara index:\n",
        "```\n",
        "list1 = [\"Sa\", \"su\", \"ma\", \"ta\"] \n",
        "list2 = [\"ya\", \"ka\", \"kan\", \"hu\"]\n",
        "```\n",
        "\n",
        "output:\n",
        "```\n",
        "['Saya','suka','makan','tahu']\n",
        "```"
      ]
    },
    {
      "cell_type": "code",
      "metadata": {
        "id": "DC_ux7aIprLo",
        "colab": {
          "base_uri": "https://localhost:8080/"
        },
        "outputId": "c6bd3d7d-ff13-46be-d340-d28a5aa62ccd"
      },
      "source": [
        "list1 = [\"Sa\", \"su\", \"ma\", \"ta\"] \n",
        "list2 = [\"ya\", \"ka\", \"kan\", \"hu\"]\n",
        "zipped = zip(list1, list2)\n",
        "print(list(zipped))\n",
        "\n"
      ],
      "execution_count": null,
      "outputs": [
        {
          "output_type": "stream",
          "name": "stdout",
          "text": [
            "[('Sa', 'ya'), ('su', 'ka'), ('ma', 'kan'), ('ta', 'hu')]\n"
          ]
        }
      ]
    }
  ]
}