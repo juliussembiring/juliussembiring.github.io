{
  "nbformat": 4,
  "nbformat_minor": 0,
  "metadata": {
    "colab": {
      "name": "4. Problems.ipynb",
      "provenance": [],
      "collapsed_sections": [],
      "include_colab_link": true
    },
    "kernelspec": {
      "name": "python3",
      "display_name": "Python 3"
    }
  },
  "cells": [
    {
      "cell_type": "markdown",
      "metadata": {
        "id": "view-in-github",
        "colab_type": "text"
      },
      "source": [
        "<a href=\"https://colab.research.google.com/github/juliussembiring/juliussembiring.github.io/blob/main/Problems%201%20(Week%202).ipynb\" target=\"_parent\"><img src=\"https://colab.research.google.com/assets/colab-badge.svg\" alt=\"Open In Colab\"/></a>"
      ]
    },
    {
      "cell_type": "markdown",
      "metadata": {
        "id": "XxdUkDWR8Q1n"
      },
      "source": [
        "1. Lengkapi bagian yang diberi tanda `$$$$$` agar objek berikut dapat menjadi integer!"
      ]
    },
    {
      "cell_type": "code",
      "metadata": {
        "id": "l72_L4gQvK7v",
        "colab": {
          "base_uri": "https://localhost:8080/"
        },
        "outputId": "df944d7c-d5d2-4f5f-f063-e18249b10294"
      },
      "source": [
        "# $$$$$('1000')\n",
        "y = '1000'\n",
        "print(int(y))"
      ],
      "execution_count": 12,
      "outputs": [
        {
          "output_type": "stream",
          "name": "stdout",
          "text": [
            "1000\n"
          ]
        }
      ]
    },
    {
      "cell_type": "markdown",
      "metadata": {
        "id": "_-kGHvFQ8V2E"
      },
      "source": [
        "2. Adi sedang berbelanja barang di supermarket, dengan harga terlampir di bawah ini. Adi membeli 2 potong ayam, 3 potong daging sapi, 2 sayur bayam, dan 1 susu. Tuliskan biaya yang harus dibayar Adi sebagai operasi di bawah ini dan jalankan perhitungannya.\n",
        "\n",
        "| barang      | harga  |\n",
        "|-------------|--------|\n",
        "| ayam        | 20000  |\n",
        "| daging sapi | 100000 |\n",
        "| sayur bayam | 10000  |\n",
        "| susu        | 15000  |\n"
      ]
    },
    {
      "cell_type": "code",
      "metadata": {
        "id": "DUME1E7R8YXS",
        "colab": {
          "base_uri": "https://localhost:8080/"
        },
        "outputId": "f5d1ea36-f396-430e-bc88-af54dceb5ea9"
      },
      "source": [
        "# a = Ayam\n",
        "# b = daging sapi\n",
        "# c = sayur bayam\n",
        "# d = susu\n",
        "\n",
        "a = int(2*20000)\n",
        "b = int(3*100000)\n",
        "c = int(2*10000)\n",
        "d = int(1*15000)\n",
        "\n",
        "result = a+b+c+d\n",
        "print(result)"
      ],
      "execution_count": 18,
      "outputs": [
        {
          "output_type": "stream",
          "name": "stdout",
          "text": [
            "375000\n"
          ]
        }
      ]
    },
    {
      "cell_type": "markdown",
      "metadata": {
        "id": "9i8JFaIo8ciq"
      },
      "source": [
        "3. Tanpa menggunakan operator modulo `%`. Cobalah hitung modulo dari 19 dan 4.\n",
        "\n",
        "hint: pakai floor division `//`\n",
        "\n",
        "expected output = 3"
      ]
    },
    {
      "cell_type": "code",
      "metadata": {
        "id": "iBFqpL838c2h",
        "colab": {
          "base_uri": "https://localhost:8080/"
        },
        "outputId": "2044086d-c11c-41f2-ad68-7b48ba132c87"
      },
      "source": [
        "# modulo dari 19 dan 4 tanpa menggunakan %\n",
        "(19-4)//4"
      ],
      "execution_count": 21,
      "outputs": [
        {
          "output_type": "execute_result",
          "data": {
            "text/plain": [
              "3"
            ]
          },
          "metadata": {},
          "execution_count": 21
        }
      ]
    },
    {
      "cell_type": "markdown",
      "metadata": {
        "id": "Fq3R52VX80ee"
      },
      "source": [
        "4. Cek isi variabel `y` ketika kalian masukkan `1+1000`. Apa yang akan terjadi? Kemudian ganti isi `y` dengan `42`."
      ]
    },
    {
      "cell_type": "code",
      "metadata": {
        "id": "fIttvetH82eO",
        "colab": {
          "base_uri": "https://localhost:8080/"
        },
        "outputId": "52884180-63d7-407e-bc55-6180585c30ac"
      },
      "source": [
        "y= 1+1000\n",
        "print(y)\n",
        "# akan menghasilkan jumlah sesuai dengan operasi aritmatika\n",
        "y = 1001\n",
        "y1 = 42\n",
        "y = y1 \n",
        "print(y)\n"
      ],
      "execution_count": 30,
      "outputs": [
        {
          "output_type": "stream",
          "name": "stdout",
          "text": [
            "1001\n",
            "42\n"
          ]
        }
      ]
    },
    {
      "cell_type": "markdown",
      "metadata": {
        "id": "YORHMxxg87TF"
      },
      "source": [
        "5. Misal anda sedang menghitung berapa banyak orang yang mengikuti kelas Pacmann. Kalian mengetahui bahwa untuk sesi pagi (`sesi_pagi`) dihadiri oleh 100 orang, dan sesi malam (`sesi_malam`) dihadiri oleh 60 orang.\n",
        "   - Buatlah variabel sesi pagi dan malam dan isi banyaknya orang yang menghadiri sesi tersebut.\n",
        "   - Kemudian, buatlah variabel `sesi_kelas` dengan menjumlah 2 variabel tersebut.\n",
        "   - Misal ada 8 kali `sesi_kelas`. Ubah isi di dalam `sesi_kelas` dengan banyaknya orang dikali dengan banyak sesi tersebut."
      ]
    },
    {
      "cell_type": "code",
      "metadata": {
        "id": "viSp7iYk88Pm",
        "colab": {
          "base_uri": "https://localhost:8080/"
        },
        "outputId": "97479a87-28a9-4bb6-dcac-e6ab2ca98a98"
      },
      "source": [
        "sesi_pagi = 100 \n",
        "sesi_malam = 60 \n",
        "sesi_kelas = int(sesi_pagi + sesi_malam)\n",
        "print(sesi_kelas)\n",
        "\n",
        "# Jika ada 8 kali sesi_kelas \n",
        "total_sesi_kelas = 8*sesi_kelas\n",
        "print(total_sesi_kelas)"
      ],
      "execution_count": 38,
      "outputs": [
        {
          "output_type": "stream",
          "name": "stdout",
          "text": [
            "160\n",
            "1280\n"
          ]
        }
      ]
    },
    {
      "cell_type": "markdown",
      "metadata": {
        "id": "9GMUl7VC9y46"
      },
      "source": [
        "6. Buatlah variabel `saya` dengan string nama panggilan anda sebagai isinya. Kemudian tampilkan isi `saya` sehingga nama anda ditampilkan dengan huruf kapital."
      ]
    },
    {
      "cell_type": "code",
      "metadata": {
        "id": "aZ782Zvg90A_",
        "colab": {
          "base_uri": "https://localhost:8080/"
        },
        "outputId": "532739f4-1813-47a7-f66d-62deaa5e84d4"
      },
      "source": [
        "saya =\"julius\"\n",
        "print(saya.upper())\n",
        "\n"
      ],
      "execution_count": 44,
      "outputs": [
        {
          "output_type": "stream",
          "name": "stdout",
          "text": [
            "JULIUS\n"
          ]
        }
      ]
    },
    {
      "cell_type": "markdown",
      "metadata": {
        "id": "S-mtS0lN9__i"
      },
      "source": [
        "7. Stephan sedang mencoba untuk melamar sebuah pekerjaan. Dia menginput namanya di variabel `nama`. Namun, tanpa sadar dia salah mengetik nama depannya menjadi `stephan purnomo`. Lebih fatal lagi, ternyata dia lupa untuk membuat namanya memiliki huruf kapital di tiap kata.\n",
        "    - Koreksi nama Stepan di variabel `nama_revisi` dengan menggunakan slicing dari `nama`. Output: `stepan purnomo`\n",
        "    - Kemudian, buat `nama_revisi` sehingga tiap kata di dalam variabel tersebut memiliki huruf awal berkapital."
      ]
    },
    {
      "cell_type": "code",
      "metadata": {
        "id": "5RQ1iEVq-A9Z",
        "colab": {
          "base_uri": "https://localhost:8080/"
        },
        "outputId": "c06c150e-b640-4978-dee6-fed1408b1df7"
      },
      "source": [
        "nama = 'stephan purnomo'\n",
        "nama_revisi = nama[0:4] + nama[5:15]\n",
        "print(nama_revisi.capitalize())\n"
      ],
      "execution_count": 77,
      "outputs": [
        {
          "output_type": "stream",
          "name": "stdout",
          "text": [
            "Stepan purnomo\n"
          ]
        }
      ]
    }
  ]
}