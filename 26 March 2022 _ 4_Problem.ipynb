{
  "cells": [
    {
      "cell_type": "markdown",
      "metadata": {
        "id": "view-in-github",
        "colab_type": "text"
      },
      "source": [
        "<a href=\"https://colab.research.google.com/github/juliussembiring/juliussembiring.github.io/blob/main/26%20March%202022%20_%204_Problem.ipynb\" target=\"_parent\"><img src=\"https://colab.research.google.com/assets/colab-badge.svg\" alt=\"Open In Colab\"/></a>"
      ]
    },
    {
      "cell_type": "markdown",
      "metadata": {
        "id": "3JvI3RNVtT23"
      },
      "source": [
        "1. Buatlah set berisi elemen yang sama dari kedua set\n",
        "    * output = {30,40,50}"
      ]
    },
    {
      "cell_type": "code",
      "execution_count": 17,
      "metadata": {
        "id": "HJR10IAPr63A",
        "colab": {
          "base_uri": "https://localhost:8080/"
        },
        "outputId": "3dc598ff-cc70-4109-b0b6-684ef31acfae"
      },
      "outputs": [
        {
          "output_type": "execute_result",
          "data": {
            "text/plain": [
              "{30, 40, 50}"
            ]
          },
          "metadata": {},
          "execution_count": 17
        }
      ],
      "source": [
        "set_1 = {10, 20, 30, 40, 50}\n",
        "set_2 = {30, 40, 50, 60, 70}\n",
        "\n",
        "set_1.intersection(set_2)"
      ]
    },
    {
      "cell_type": "markdown",
      "metadata": {
        "id": "KBBpp5rMtno6"
      },
      "source": [
        "2. Gabungkanlah 2 set tanpa ada duplikat\n",
        "    * output = {10,20,30,40,50,60,70}"
      ]
    },
    {
      "cell_type": "code",
      "execution_count": 9,
      "metadata": {
        "id": "-ADOOKFNtxga"
      },
      "outputs": [],
      "source": [
        "set1 = {10, 20, 30, 40, 50}\n",
        "set2 = {30, 40, 50, 60, 70}"
      ]
    },
    {
      "cell_type": "code",
      "execution_count": 18,
      "metadata": {
        "id": "bEFmRiGXrQFQ",
        "colab": {
          "base_uri": "https://localhost:8080/"
        },
        "outputId": "42d2e7dc-5db5-433b-9978-ce3b149d144a"
      },
      "outputs": [
        {
          "output_type": "execute_result",
          "data": {
            "text/plain": [
              "{10, 20, 30, 40, 50, 60, 70}"
            ]
          },
          "metadata": {},
          "execution_count": 18
        }
      ],
      "source": [
        "set1.union(set2)\n"
      ]
    },
    {
      "cell_type": "markdown",
      "metadata": {
        "id": "ry1VFIAmuEvE"
      },
      "source": [
        "3. Ambil nilai nama dari tiap elemen pada dictionary berikut"
      ]
    },
    {
      "cell_type": "code",
      "execution_count": 11,
      "metadata": {
        "id": "ilw4iHOQuFtx",
        "colab": {
          "base_uri": "https://localhost:8080/"
        },
        "outputId": "442eb740-837a-40d6-c6b1-464a5d50bb72"
      },
      "outputs": [
        {
          "output_type": "stream",
          "name": "stdout",
          "text": [
            "value: {'nama': 'john', 'usia': 50}\n",
            "\n",
            "value: {'nama': 'mike', 'usia': 30}\n",
            "\n"
          ]
        }
      ],
      "source": [
        "test_dict = {\"08133333213\": {\"nama\": \"john\", \"usia\": 50}, \"081656512365\": {\"nama\": \"mike\", \"usia\": 30}}\n",
        "\n",
        "for i in test_dict:\n",
        "  print(\"value:\", test_dict[i])\n",
        "  print()"
      ]
    },
    {
      "cell_type": "markdown",
      "metadata": {
        "id": "smLY5H8UuIHk"
      },
      "source": [
        "4. buat dictionary yang memiliki elemen dengan key dan value berupa angka dan frekuensi kemunculannya.\n",
        "- Output: {\"kadal\": 2, \"kambing\": 3, \"kuda\": 4, \"kerbau\": 2}"
      ]
    },
    {
      "cell_type": "code",
      "execution_count": 8,
      "metadata": {
        "id": "FVCghcJBuNh0",
        "colab": {
          "base_uri": "https://localhost:8080/"
        },
        "outputId": "a6f4f2e9-e372-4d95-d9cf-ea698bf77fa6"
      },
      "outputs": [
        {
          "output_type": "stream",
          "name": "stdout",
          "text": [
            "Total karakter: 11\n",
            "Total nama binatang: 11\n",
            "  kadal -> 2\n",
            "  kambing -> 3\n",
            "  kuda -> 4\n",
            "  kerbau -> 2\n"
          ]
        }
      ],
      "source": [
        "list_dict = [\"kadal\",\"kambing\",\"kuda\",\"kerbau\",\"kuda\",\"kerbau\",\"kambing\",\"kuda\",\"kadal\",\"kambing\",\"kuda\"]\n",
        "nama_binatang = {\n",
        "  'kadal': 0,\n",
        "  'kambing': 0,\n",
        "  'kuda': 0,\n",
        "  'kerbau': 0,\n",
        "}\n",
        "total_nama_binatang = 0\n",
        "\n",
        "for karakter in list_dict:\n",
        "  if karakter in ['kadal', 'kambing', 'kerbau', 'kuda']:\n",
        "    nama_binatang[karakter] += 1\n",
        "    total_nama_binatang += 1\n",
        "\n",
        "print(f'Total karakter: {len(list_dict)}')\n",
        "print(f'Total nama binatang: {total_nama_binatang}')\n",
        "print(f\"\"\"\\\n",
        "  kadal -> {nama_binatang['kadal']}\n",
        "  kambing -> {nama_binatang['kambing']}\n",
        "  kuda -> {nama_binatang['kuda']}\n",
        "  kerbau -> {nama_binatang['kerbau']}\\\n",
        "\"\"\")\n",
        "\n",
        "\n"
      ]
    },
    {
      "cell_type": "code",
      "source": [
        "# Untuk mencari huruf vokal (notes)\n",
        "teks = input('Tuliskan teks: ').lower()\n",
        "dictionary_huruf_vokal = {\n",
        "  'a': 0,\n",
        "  'i': 0,\n",
        "  'u': 0,\n",
        "  'e': 0,\n",
        "  'o': 0\n",
        "}\n",
        "\n",
        "for huruf_vokal in dictionary_huruf_vokal.keys():\n",
        "  dictionary_huruf_vokal[huruf_vokal] = teks.count(huruf_vokal)\n",
        "  total_huruf_vokal = sum(dictionary_huruf_vokal.values())\n",
        "  print(f'Total karakter: {len(teks)}')\n",
        "print(f'Total huruf vokal: {total_huruf_vokal}')\n",
        "print(f\"\"\"\\\n",
        "  a -> {dictionary_huruf_vokal['a']}\n",
        "  i -> {dictionary_huruf_vokal['i']}\n",
        "  u -> {dictionary_huruf_vokal['u']}\n",
        "  e -> {dictionary_huruf_vokal['e']}\n",
        "  o -> {dictionary_huruf_vokal['o']}\\\n",
        "\"\"\")"
      ],
      "metadata": {
        "colab": {
          "base_uri": "https://localhost:8080/"
        },
        "id": "lohK0OL9Nr5b",
        "outputId": "57c43322-cc1f-4735-d90d-75bfe93431ae"
      },
      "execution_count": 14,
      "outputs": [
        {
          "output_type": "stream",
          "name": "stdout",
          "text": [
            "Tuliskan teks: teks\n",
            "Total karakter: 4\n",
            "Total karakter: 4\n",
            "Total karakter: 4\n",
            "Total karakter: 4\n",
            "Total karakter: 4\n",
            "Total huruf vokal: 1\n",
            "  a -> 0\n",
            "  i -> 0\n",
            "  u -> 0\n",
            "  e -> 1\n",
            "  o -> 0\n"
          ]
        }
      ]
    },
    {
      "cell_type": "markdown",
      "metadata": {
        "id": "2VmrLJC3LcT4"
      },
      "source": [
        "5. Pak Maman adalah seorang wali kelas di sebuah SMA. Ia sedang merekap hasil ulangan siswa untuk mata pelajaran Matematika, Bahasa Inggris, dan Bahasa Indonesia. Sebagai tugas tambahan pak maman perlu mencari rata-rata nilai setiap siswa dari 3 mata pelajaran tersebut. \n",
        "    - buat sebuah elemen baru dalam dictionary dengan key 'rata-rata' dan value berupa list dari nilai rata-rata tiap siswa\n",
        "    \n",
        "   Output:\n",
        "   \n",
        "   hasil_ulangan = \n",
        "               {\n",
        "                'nama' : ['Ani', 'Budi', 'Citra', 'Dion', 'Ezha'],\n",
        "                'matematika' : [88, 78, 82, 90, 81],\n",
        "                'b_inggris' : [92, 89, 84, 82, 87 ],\n",
        "                'b_indo' : [90, 88, 86, 86, 81],\n",
        "                'rata2': [90.0, 85.0, 84.0, 86.0, 83.0]\n",
        "                }"
      ]
    },
    {
      "cell_type": "code",
      "execution_count": 6,
      "metadata": {
        "id": "Fn5tTczgLcT5"
      },
      "outputs": [],
      "source": [
        "hasil_ulangan = {\n",
        "                'nama' : ['Ani', 'Budi', 'Citra', 'Dion', 'Ezha'],\n",
        "                'matematika' : [88, 78, 82, 90, 81],\n",
        "                'b_inggris' : [92, 89, 84, 82, 87 ],\n",
        "                'b_indo' : [90, 88, 86, 86, 81]\n",
        "                }\n",
        "\n",
        "\n"
      ]
    },
    {
      "cell_type": "code",
      "source": [
        "matematika = [45, 34, 10, 36, 12, 6, 80]\n",
        "b_inggris = [92, 89, 84, 82, 87 ]\n",
        "b_indo = [90, 88, 86, 86, 81]\n",
        "\n",
        "\n",
        "avg = sum(matematika)/len(matematika)\n",
        "print(\"The average is \", round(avg,2))"
      ],
      "metadata": {
        "colab": {
          "base_uri": "https://localhost:8080/"
        },
        "id": "tsPUAX-GfRf6",
        "outputId": "684a91d9-b814-49c9-deb9-4e0f1a8cbcd0"
      },
      "execution_count": 4,
      "outputs": [
        {
          "output_type": "stream",
          "name": "stdout",
          "text": [
            "The average is  31.86\n"
          ]
        }
      ]
    },
    {
      "cell_type": "code",
      "source": [
        "daftar_input = input('masukan list bilangan, pisahkan dengan tanda koma. contoh: 1,2,3,dst : ')\n",
        "list_angka = daftar_input.split(',')\n",
        "daftar_baru = [int(x) for x in list_angka]\n",
        "\n",
        "jumlah = 0\n",
        "for angka in daftar_baru:\n",
        "    jumlah += angka\n",
        "rata_rata = jumlah / len(daftar_baru)\n",
        "\n",
        "print('Nilai rata-rata: {}'.format(rata_rata))\n",
        "print('Jumlah total: {}'.format(jumlah))\n",
        "print('Nilai Maximal inputan: {}'.format(max(daftar_baru)))\n",
        "print('Nilai Minimal inputan: {}'.format(min(daftar_baru)))"
      ],
      "metadata": {
        "colab": {
          "base_uri": "https://localhost:8080/"
        },
        "id": "bJdQraUYaYcs",
        "outputId": "0768f394-75e3-4189-a9b4-df69cd50f30e"
      },
      "execution_count": 9,
      "outputs": [
        {
          "output_type": "stream",
          "name": "stdout",
          "text": [
            "masukan list bilangan, pisahkan dengan tanda koma. contoh: 1,2,3,dst : 1,5,6\n",
            "Nilai rata-rata: 4.0\n",
            "Jumlah total: 12\n",
            "Nilai Maximal inputan: 6\n",
            "Nilai Minimal inputan: 1\n"
          ]
        }
      ]
    },
    {
      "cell_type": "markdown",
      "source": [
        ""
      ],
      "metadata": {
        "id": "txtRH06taYNL"
      }
    },
    {
      "cell_type": "markdown",
      "metadata": {
        "id": "NGKQXie9uajj"
      },
      "source": [
        "6. Buatlah fungsi rekursif yang menerima input N, dan menghitung jumlah bilangan ganjil dari 1 sampai N\n",
        "contoh:\n",
        "- N = 3, output = 1 + 3 = 4\n",
        "- N = 5, output = 1 + 3 + 5 = 8"
      ]
    },
    {
      "cell_type": "code",
      "execution_count": 12,
      "metadata": {
        "id": "hDpC5JvnmcUT"
      },
      "outputs": [],
      "source": [
        ""
      ]
    },
    {
      "cell_type": "markdown",
      "metadata": {
        "id": "1LrQDlqNu7xl"
      },
      "source": [
        "7. Buatlah fungsi rekursif yang menerima sebuah string berupa angka, yang kemudian mengecek apakah string tersebut merupakan palindrome.\n",
        "\n",
        "Palindrome = urutan dari depan dan dari belakang sama\n",
        "\n",
        "contoh: \n",
        "- input = \"1221\", output = True\n",
        "- input = \"12312\", output = False"
      ]
    },
    {
      "cell_type": "code",
      "execution_count": 12,
      "metadata": {
        "id": "6h-ItiJqeTBR"
      },
      "outputs": [],
      "source": [
        ""
      ]
    }
  ],
  "metadata": {
    "colab": {
      "collapsed_sections": [],
      "name": "4.Problem.ipynb",
      "provenance": [],
      "include_colab_link": true
    },
    "kernelspec": {
      "display_name": "Python 3",
      "language": "python",
      "name": "python3"
    },
    "language_info": {
      "codemirror_mode": {
        "name": "ipython",
        "version": 3
      },
      "file_extension": ".py",
      "mimetype": "text/x-python",
      "name": "python",
      "nbconvert_exporter": "python",
      "pygments_lexer": "ipython3",
      "version": "3.7.4"
    }
  },
  "nbformat": 4,
  "nbformat_minor": 0
}