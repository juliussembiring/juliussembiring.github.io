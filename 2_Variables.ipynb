{
  "cells": [
    {
      "cell_type": "markdown",
      "metadata": {
        "id": "view-in-github",
        "colab_type": "text"
      },
      "source": [
        "<a href=\"https://colab.research.google.com/github/juliussembiring/juliussembiring.github.io/blob/main/2_Variables.ipynb\" target=\"_parent\"><img src=\"https://colab.research.google.com/assets/colab-badge.svg\" alt=\"Open In Colab\"/></a>"
      ]
    },
    {
      "cell_type": "markdown",
      "metadata": {
        "id": "_vvpRBqTrutZ"
      },
      "source": [
        "## Variables"
      ]
    },
    {
      "cell_type": "markdown",
      "metadata": {
        "id": "HdvV9qTaM3pH"
      },
      "source": [
        "Variabel adalah suatu elemen penting dalam pemrograman. Kegunaan dari variabel sendiri adalah untuk menyimpan suatu nilai informasi."
      ]
    },
    {
      "cell_type": "markdown",
      "metadata": {
        "id": "vpvEwGLLwp8q"
      },
      "source": [
        "### Bind Variables in Python atau Variable assignment"
      ]
    },
    {
      "cell_type": "markdown",
      "metadata": {
        "id": "DiebEIZ2M3pI"
      },
      "source": [
        "Untuk menyimpan suatu nilai ke dalam suatu variabel, sangatlah simpel! Cukup dengan mengikuti contoh di bawah ini."
      ]
    },
    {
      "cell_type": "code",
      "execution_count": 2,
      "metadata": {
        "id": "qRRPTGApM3pI",
        "colab": {
          "base_uri": "https://localhost:8080/"
        },
        "outputId": "bbb554c6-a3a3-4b64-b313-dcd991ed51e4"
      },
      "outputs": [
        {
          "output_type": "stream",
          "name": "stdout",
          "text": [
            "4\n"
          ]
        }
      ],
      "source": [
        "x = 4\n",
        "print(x)"
      ]
    },
    {
      "cell_type": "markdown",
      "metadata": {
        "id": "HvaearZv-i1B"
      },
      "source": [
        "**Exercise**"
      ]
    },
    {
      "cell_type": "code",
      "execution_count": 1,
      "metadata": {
        "id": "TxZH-ziGNsVt"
      },
      "outputs": [],
      "source": [
        "# Buatlah suatu variabel 'nama' dengan nilai \"Wawan\"\n",
        "nama = 'wawan'"
      ]
    },
    {
      "cell_type": "code",
      "execution_count": 3,
      "metadata": {
        "id": "pZ1QNFAoN7A1"
      },
      "outputs": [],
      "source": [
        "# Buatlah suatu variabel 'gol' dengan nilai 6\n",
        "gol = 6"
      ]
    },
    {
      "cell_type": "code",
      "execution_count": 4,
      "metadata": {
        "id": "UWwhj7d1OJad",
        "colab": {
          "base_uri": "https://localhost:8080/"
        },
        "outputId": "05769be2-da6e-4a23-95b3-4651d2d0866a"
      },
      "outputs": [
        {
          "output_type": "stream",
          "name": "stdout",
          "text": [
            "['Indomie', 'Telur', 'Soto Spesial']\n"
          ]
        }
      ],
      "source": [
        "# Buatlah suatu variabel dengan nama mie dan isi dengan rasa mie favorit anda!\n",
        "a = ['Indomie','Telur', 'Soto Spesial']\n",
        "print(a)"
      ]
    },
    {
      "cell_type": "markdown",
      "metadata": {
        "id": "6E48mDCfBpxF"
      },
      "source": [
        "### Change Binding atau Overwrite value in a variable"
      ]
    },
    {
      "cell_type": "markdown",
      "metadata": {
        "id": "5aymCpJ8M3pL"
      },
      "source": [
        "Misal anda baru saja mengenal seseorang yang ikut kelas ini juga. Awalnya, sebut saja Mr. `x`. Anda sempat bertanya kepada teman anda siapa Mr `x` ini. Teman anda bilang bahwa dia bernama Wawan."
      ]
    },
    {
      "cell_type": "code",
      "execution_count": 5,
      "metadata": {
        "id": "b-01um5aM3pL"
      },
      "outputs": [],
      "source": [
        "x = 'Wawan'"
      ]
    },
    {
      "cell_type": "markdown",
      "metadata": {
        "id": "q8CXS2FwM3pO"
      },
      "source": [
        "Namun setelah anda berkenalan dengan Mr. `x` langsung, ternyata dia bernama Rizky. Bagaimana untuk mengubah `x`?"
      ]
    },
    {
      "cell_type": "code",
      "execution_count": 6,
      "metadata": {
        "id": "gXpjO2ZwM3pP",
        "colab": {
          "base_uri": "https://localhost:8080/"
        },
        "outputId": "cd1c6eeb-5cf0-42dc-971f-5b0f3fee16a6"
      },
      "outputs": [
        {
          "output_type": "stream",
          "name": "stdout",
          "text": [
            "Rizky\n"
          ]
        }
      ],
      "source": [
        "x = 'Rizky'\n",
        "print(x)"
      ]
    },
    {
      "cell_type": "markdown",
      "metadata": {
        "id": "LDFo-OygM3pR"
      },
      "source": [
        "Cukup seperti itu saja.\n",
        "\n",
        "**Exercise**"
      ]
    },
    {
      "cell_type": "code",
      "execution_count": 25,
      "metadata": {
        "id": "Sfv-qZfMSUpb",
        "colab": {
          "base_uri": "https://localhost:8080/"
        },
        "outputId": "f434405d-9249-44a7-93c2-17ec61ab8b57"
      },
      "outputs": [
        {
          "output_type": "stream",
          "name": "stdout",
          "text": [
            "Lewandowski\n"
          ]
        }
      ],
      "source": [
        "# Buatlah variabel goalscorer dengan nilai Muller, kemudian ubah nilainya menjadi Lewandowski\n",
        "x = \"Muller\"\n",
        "x = \"Lewandowski\"\n",
        "print(x)"
      ]
    },
    {
      "cell_type": "code",
      "execution_count": 26,
      "metadata": {
        "id": "TFuNN_eESarN",
        "colab": {
          "base_uri": "https://localhost:8080/"
        },
        "outputId": "e89a5aa6-4721-48c8-e211-6da65cfa1280"
      },
      "outputs": [
        {
          "output_type": "stream",
          "name": "stdout",
          "text": [
            "6\n"
          ]
        }
      ],
      "source": [
        "# Buatlah variabel bayern dengan nilai 5, kemudian ubah nilainya menjadi 6\n",
        "y = 5\n",
        "y = 6\n",
        "print(y)"
      ]
    },
    {
      "cell_type": "markdown",
      "metadata": {
        "id": "OofZpUyj4pDI"
      },
      "source": [
        "###  Aturan dalam Membuat Nama Variabel\n",
        "Ada beberapa hal yang perlu diperhatikan saat membuat nama variabel:\n",
        "\n",
        "- Sebuah variabel harus di mulai dengan huruf atau karakter underscore **_**\n",
        "- Ada baiknya variabel tidak dimulai dengan angka \n",
        "- Sebuah variabel terdiri atas karakter alpha-numeric dan underscore (A-z, 0-9, dan _ )\n"
      ]
    },
    {
      "cell_type": "code",
      "execution_count": 9,
      "metadata": {
        "id": "Eug1NK8U4pDJ"
      },
      "outputs": [],
      "source": [
        "#contoh yang di rekomendasikan\n",
        "nama = 'Rizky'\n",
        "nama2 = 'Ahmad'\n",
        "_nama = 'Wawan'\n",
        "ulang_tahun = '25 juni 2003'"
      ]
    },
    {
      "cell_type": "code",
      "execution_count": 10,
      "metadata": {
        "colab": {
          "base_uri": "https://localhost:8080/"
        },
        "id": "6-BeAe0T4pDL",
        "outputId": "07345a3a-87fd-44e7-cec1-7e38cdec7a64"
      },
      "outputs": [
        {
          "output_type": "stream",
          "name": "stdout",
          "text": [
            "Rizky\n",
            "Ahmad\n",
            "Wawan\n"
          ]
        }
      ],
      "source": [
        "print(nama)\n",
        "print(nama2)\n",
        "print(_nama)"
      ]
    },
    {
      "cell_type": "markdown",
      "metadata": {
        "id": "5l5h8w_O4pDM"
      },
      "source": [
        "- Selain itu, nama variable bersifat case-sensitive (nama, Nama, dan NAMA merupakan tiga variabel yang berbeda"
      ]
    },
    {
      "cell_type": "code",
      "execution_count": 11,
      "metadata": {
        "id": "0PQNy4n14pDN"
      },
      "outputs": [],
      "source": [
        "nama = 'Rizky'\n",
        "Nama = 'Ahmad'\n",
        "NAMA = 'Wawan'"
      ]
    },
    {
      "cell_type": "code",
      "execution_count": 12,
      "metadata": {
        "colab": {
          "base_uri": "https://localhost:8080/"
        },
        "id": "HvJIP8_A4pDP",
        "outputId": "ef6081b2-1cb5-498c-c2db-12477a6cfdf9"
      },
      "outputs": [
        {
          "output_type": "stream",
          "name": "stdout",
          "text": [
            "Rizky\n",
            "Ahmad\n",
            "Wawan\n"
          ]
        }
      ],
      "source": [
        "print(nama)\n",
        "print(Nama)\n",
        "print(NAMA)"
      ]
    },
    {
      "cell_type": "markdown",
      "metadata": {
        "id": "ZwtGFlXfP9gn"
      },
      "source": [
        "### Variable ID\n",
        "\n",
        "Untuk mengidentifikasi setiap variabel, Python menggunakan sistem ID. ID ini akan secara otomatis diberikan oleh Python sehingga anda tidak usah khawatir.\n",
        "\n",
        "Cara mengecek ID:"
      ]
    },
    {
      "cell_type": "code",
      "execution_count": 13,
      "metadata": {
        "colab": {
          "base_uri": "https://localhost:8080/"
        },
        "id": "WP02CO5IQb_8",
        "outputId": "f6ed187a-a634-455d-9a08-a9f799d85798"
      },
      "outputs": [
        {
          "output_type": "execute_result",
          "data": {
            "text/plain": [
              "140512330982896"
            ]
          },
          "metadata": {},
          "execution_count": 13
        }
      ],
      "source": [
        "unggas = 'Ayam'\n",
        "id(unggas)"
      ]
    },
    {
      "cell_type": "markdown",
      "metadata": {
        "id": "bnuBWq0HRcQY"
      },
      "source": [
        "Ketika binding variabel berubah, ID juga ikut berubah"
      ]
    },
    {
      "cell_type": "code",
      "execution_count": 14,
      "metadata": {
        "colab": {
          "base_uri": "https://localhost:8080/"
        },
        "id": "SEAKXqp9RaME",
        "outputId": "8ae3ee3e-6901-4f47-f4cf-0d724eb83971"
      },
      "outputs": [
        {
          "output_type": "execute_result",
          "data": {
            "text/plain": [
              "140512269749808"
            ]
          },
          "metadata": {},
          "execution_count": 14
        }
      ],
      "source": [
        "unggas = 'bebek'\n",
        "id(unggas)"
      ]
    },
    {
      "cell_type": "markdown",
      "metadata": {
        "id": "H-1DiWkQR_Cm"
      },
      "source": [
        "Variabel berbeda memiliki id yang berbeda juga"
      ]
    },
    {
      "cell_type": "code",
      "execution_count": 15,
      "metadata": {
        "id": "K2ukhrA3S2v8"
      },
      "outputs": [],
      "source": [
        "mamalia = 'sapi'\n",
        "ikan = 'bandeng'"
      ]
    },
    {
      "cell_type": "code",
      "execution_count": 16,
      "metadata": {
        "colab": {
          "base_uri": "https://localhost:8080/"
        },
        "id": "d6X4FJWHTBLc",
        "outputId": "693a2ada-8f29-47aa-ef7f-f0ed9ce61a82"
      },
      "outputs": [
        {
          "output_type": "execute_result",
          "data": {
            "text/plain": [
              "140512269786224"
            ]
          },
          "metadata": {},
          "execution_count": 16
        }
      ],
      "source": [
        "id(mamalia)"
      ]
    },
    {
      "cell_type": "code",
      "execution_count": 17,
      "metadata": {
        "colab": {
          "base_uri": "https://localhost:8080/"
        },
        "id": "qeVWx0fUTEG4",
        "outputId": "2ad9cda8-8170-466d-f836-c97ca9877a4e"
      },
      "outputs": [
        {
          "output_type": "execute_result",
          "data": {
            "text/plain": [
              "140512269785072"
            ]
          },
          "metadata": {},
          "execution_count": 17
        }
      ],
      "source": [
        "id(ikan)"
      ]
    },
    {
      "cell_type": "markdown",
      "metadata": {
        "id": "FI7qxYTHTIKu"
      },
      "source": [
        "2 variabel juga bisa memiliki 1 id yang sama"
      ]
    },
    {
      "cell_type": "code",
      "execution_count": 18,
      "metadata": {
        "id": "ug1hID-TTLr_"
      },
      "outputs": [],
      "source": [
        "tumbuhan = 'teh'\n",
        "minuman = tumbuhan"
      ]
    },
    {
      "cell_type": "code",
      "execution_count": 19,
      "metadata": {
        "colab": {
          "base_uri": "https://localhost:8080/"
        },
        "id": "tp9_QydZTWqr",
        "outputId": "8b2c1431-7ee4-4bc2-dbdb-4c78763960c2"
      },
      "outputs": [
        {
          "output_type": "execute_result",
          "data": {
            "text/plain": [
              "140512269834928"
            ]
          },
          "metadata": {},
          "execution_count": 19
        }
      ],
      "source": [
        "id(tumbuhan)"
      ]
    },
    {
      "cell_type": "code",
      "execution_count": 20,
      "metadata": {
        "colab": {
          "base_uri": "https://localhost:8080/"
        },
        "id": "njafmsoZTY0w",
        "outputId": "72e41b58-9e59-4bda-e84b-d48666095e2f"
      },
      "outputs": [
        {
          "output_type": "execute_result",
          "data": {
            "text/plain": [
              "140512269834928"
            ]
          },
          "metadata": {},
          "execution_count": 20
        }
      ],
      "source": [
        "id(minuman)"
      ]
    },
    {
      "cell_type": "markdown",
      "metadata": {
        "id": "iezmYYLhTgdU"
      },
      "source": [
        "Bagaimana kalau diganti?"
      ]
    },
    {
      "cell_type": "code",
      "execution_count": 21,
      "metadata": {
        "colab": {
          "base_uri": "https://localhost:8080/"
        },
        "id": "i-CcK3RzTe-k",
        "outputId": "b77e44c0-8a72-4a77-b103-ba3417bcfeab"
      },
      "outputs": [
        {
          "output_type": "execute_result",
          "data": {
            "text/plain": [
              "140512269811184"
            ]
          },
          "metadata": {},
          "execution_count": 21
        }
      ],
      "source": [
        "minuman = 'kopi'\n",
        "id(minuman)"
      ]
    },
    {
      "cell_type": "code",
      "source": [
        "x = 1.00\n",
        "y = 1.0\n",
        "\n",
        "print(id(x))\n",
        "print(id(y))"
      ],
      "metadata": {
        "colab": {
          "base_uri": "https://localhost:8080/"
        },
        "id": "g2MsGlbiK2DP",
        "outputId": "b877e488-5d1c-4a9c-87ad-d3c16128a256"
      },
      "execution_count": 22,
      "outputs": [
        {
          "output_type": "stream",
          "name": "stdout",
          "text": [
            "140512331010896\n",
            "140512331010512\n"
          ]
        }
      ]
    },
    {
      "cell_type": "markdown",
      "metadata": {
        "id": "iMzHxJwB-wOq"
      },
      "source": [
        "---\n",
        "**Exercise**"
      ]
    },
    {
      "cell_type": "code",
      "execution_count": 29,
      "metadata": {
        "id": "5wjZPVJqT1nI",
        "colab": {
          "base_uri": "https://localhost:8080/"
        },
        "outputId": "ae078630-cfda-4d24-f09f-a440fee4cff2"
      },
      "outputs": [
        {
          "output_type": "stream",
          "name": "stdout",
          "text": [
            "140512269329840\n",
            "140512269931504\n"
          ]
        }
      ],
      "source": [
        "# Buatlah 2 variabel sembarang dengan id yang berbeda\n",
        "Favorite_drink = \"Coffee\"\n",
        "Favorite_food = \"Fried Chicken\"\n",
        "print(id(Favorite_drink))\n",
        "print(id(Favorite_food))"
      ]
    },
    {
      "cell_type": "code",
      "execution_count": 33,
      "metadata": {
        "id": "KK6BDx18TxBa",
        "colab": {
          "base_uri": "https://localhost:8080/"
        },
        "outputId": "8e65e2b8-8ead-4bff-c3d5-75c4773e4ef6"
      },
      "outputs": [
        {
          "output_type": "stream",
          "name": "stdout",
          "text": [
            "140512268415600\n",
            "140512268415600\n"
          ]
        }
      ],
      "source": [
        "# Buatlah 2 variabel sembarang dengan id yang sama\n",
        "Food = \"chicken\"\n",
        "makanan = Food\n",
        "\n",
        "print(id(Food))\n",
        "print(id(makanan))"
      ]
    }
  ],
  "metadata": {
    "colab": {
      "collapsed_sections": [],
      "name": "2. Variables.ipynb",
      "provenance": [],
      "toc_visible": true,
      "include_colab_link": true
    },
    "kernelspec": {
      "display_name": "Python 3",
      "language": "python",
      "name": "python3"
    },
    "language_info": {
      "codemirror_mode": {
        "name": "ipython",
        "version": 3
      },
      "file_extension": ".py",
      "mimetype": "text/x-python",
      "name": "python",
      "nbconvert_exporter": "python",
      "pygments_lexer": "ipython3",
      "version": "3.7.4"
    },
    "toc-autonumbering": true,
    "toc-showcode": false,
    "toc-showmarkdowntxt": false
  },
  "nbformat": 4,
  "nbformat_minor": 0
}